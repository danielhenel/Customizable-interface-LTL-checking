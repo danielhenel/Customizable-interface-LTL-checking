{
 "cells": [
  {
   "cell_type": "markdown",
   "metadata": {},
   "source": [
    "| | |\n",
    "|-|-|\n",
    "| __Use case__ | The user should be able to combine filters using OR and AND operations. |\n",
    "| __Idea__ | Using sets operations on the filtering results. |\n",
    "| __Problem__ | The combination of filters can be very complex and should be simplified. |\n",
    "| __Solution__ | Converting the logic expression to Conjunctive Normal Form (CNF) and then applying sets operations. |"
   ]
  },
  {
   "cell_type": "markdown",
   "metadata": {},
   "source": [
    "### Simplifying expressions"
   ]
  },
  {
   "cell_type": "code",
   "execution_count": 1,
   "metadata": {},
   "outputs": [],
   "source": [
    "from sympy.logic.boolalg import And, Or, Not, Implies, Equivalent\n",
    "from sympy.logic.boolalg import to_cnf\n",
    "from sympy.abc import A, E, F"
   ]
  },
  {
   "cell_type": "markdown",
   "metadata": {},
   "source": [
    "a) (E ∧ A ∧ F ) ∨ ( A ∧ F )"
   ]
  },
  {
   "cell_type": "code",
   "execution_count": 2,
   "metadata": {},
   "outputs": [
    {
     "data": {
      "text/latex": [
       "$\\displaystyle A \\wedge F$"
      ],
      "text/plain": [
       "A & F"
      ]
     },
     "execution_count": 2,
     "metadata": {},
     "output_type": "execute_result"
    }
   ],
   "source": [
    "to_cnf((E & A & F ) | ( A & F ),True)"
   ]
  },
  {
   "cell_type": "markdown",
   "metadata": {},
   "source": [
    "b) (A ∧ E) V (F ∧ E V A) ∧ (A V F)"
   ]
  },
  {
   "cell_type": "code",
   "execution_count": 3,
   "metadata": {},
   "outputs": [
    {
     "data": {
      "text/latex": [
       "$\\displaystyle \\left(A \\vee E\\right) \\wedge \\left(A \\vee F\\right)$"
      ],
      "text/plain": [
       "(A | E) & (A | F)"
      ]
     },
     "execution_count": 3,
     "metadata": {},
     "output_type": "execute_result"
    }
   ],
   "source": [
    "to_cnf((A & E) | (F & E | A) & (A | F),True)"
   ]
  },
  {
   "cell_type": "markdown",
   "metadata": {},
   "source": [
    "c) ((A ∨ F) ∨ E ∧ (A ∨ E) ∧ (F ∨ E)) ∧ (A ∧ E ∨ F ∧ (E ∨ A))"
   ]
  },
  {
   "cell_type": "code",
   "execution_count": 4,
   "metadata": {},
   "outputs": [
    {
     "data": {
      "text/latex": [
       "$\\displaystyle \\left(A \\vee E\\right) \\wedge \\left(A \\vee F\\right) \\wedge \\left(E \\vee F\\right)$"
      ],
      "text/plain": [
       "(A | E) & (A | F) & (E | F)"
      ]
     },
     "execution_count": 4,
     "metadata": {},
     "output_type": "execute_result"
    }
   ],
   "source": [
    "to_cnf(((A | F) | E & (A | E) & (F | E)) & (A & E | F & (E | A)),True)"
   ]
  },
  {
   "cell_type": "markdown",
   "metadata": {},
   "source": [
    "### Example 1 : Simple sets of numbers"
   ]
  },
  {
   "cell_type": "code",
   "execution_count": 5,
   "metadata": {},
   "outputs": [],
   "source": [
    "import random\n",
    "\n",
    "def sort_set(x):\n",
    "    x = list(x)\n",
    "    x.sort()\n",
    "    return x"
   ]
  },
  {
   "cell_type": "markdown",
   "metadata": {},
   "source": [
    "a) (E ∧ A ∧ F ) ∨ ( A ∧ F ) = A ∧ F"
   ]
  },
  {
   "cell_type": "code",
   "execution_count": 6,
   "metadata": {},
   "outputs": [],
   "source": [
    "E = { 1, 2, 3, 4, 5, 6, 7, 8, 9, 10}\n",
    "A = { 1, 6, 7, 8, 9, 10, 11, 12, 13}\n",
    "F = { 1, 2, 3, 4, 5, 6, 0, 15, 14}"
   ]
  },
  {
   "cell_type": "code",
   "execution_count": 7,
   "metadata": {},
   "outputs": [],
   "source": [
    "E = { random.randint(1,50) for i in range(35)}\n",
    "A = { random.randint(1,50) for i in range(35)}\n",
    "F = { random.randint(1,50) for i in range(35)}"
   ]
  },
  {
   "cell_type": "code",
   "execution_count": 8,
   "metadata": {},
   "outputs": [],
   "source": [
    "EAF = (E.intersection(A)).intersection(F)\n",
    "AF = A.intersection(F)\n",
    "EAF_or_AF = EAF.union(AF)"
   ]
  },
  {
   "cell_type": "code",
   "execution_count": 9,
   "metadata": {},
   "outputs": [
    {
     "name": "stdout",
     "output_type": "stream",
     "text": [
      "[1, 6, 11, 22, 23, 26, 32, 36, 43, 48, 49]\n",
      "[1, 6, 11, 22, 23, 26, 32, 36, 43, 48, 49]\n"
     ]
    }
   ],
   "source": [
    "print(sort_set(AF))\n",
    "print(sort_set(EAF_or_AF))"
   ]
  },
  {
   "cell_type": "markdown",
   "metadata": {},
   "source": [
    "EAF_or_AF == AF"
   ]
  },
  {
   "cell_type": "markdown",
   "metadata": {},
   "source": [
    "b) (A ∧ E) V (F ∧ E V A) ∧ (A V F) =  (A ∨ E) ∧ (A ∨ F)"
   ]
  },
  {
   "cell_type": "code",
   "execution_count": 10,
   "metadata": {},
   "outputs": [],
   "source": [
    "AE = A.intersection(E)\n",
    "FEorA = (F.intersection(E)).union(A)\n",
    "AorF = A.union(F)\n",
    "AE_or_FEorA_and_AorF = (AE.union(FEorA)).intersection(AorF)"
   ]
  },
  {
   "cell_type": "code",
   "execution_count": 11,
   "metadata": {},
   "outputs": [],
   "source": [
    "AorE = A.union(E)\n",
    "AorF = A.union(F)\n",
    "AorE_and_AorF = AorE.intersection(AorF)"
   ]
  },
  {
   "cell_type": "code",
   "execution_count": 12,
   "metadata": {},
   "outputs": [
    {
     "name": "stdout",
     "output_type": "stream",
     "text": [
      "[1, 2, 6, 7, 8, 9, 10, 11, 13, 14, 15, 16, 19, 22, 23, 25, 26, 28, 29, 30, 32, 33, 36, 38, 39, 41, 43, 44, 45, 47, 48, 49, 50]\n",
      "[1, 2, 6, 7, 8, 9, 10, 11, 13, 14, 15, 16, 19, 22, 23, 25, 26, 28, 29, 30, 32, 33, 36, 38, 39, 41, 43, 44, 45, 47, 48, 49, 50]\n"
     ]
    }
   ],
   "source": [
    "print(sort_set(AE_or_FEorA_and_AorF))\n",
    "print(sort_set(AorE_and_AorF))"
   ]
  },
  {
   "cell_type": "markdown",
   "metadata": {},
   "source": [
    "AE_or_FEorA_and_AorF == AorE_and_AorF"
   ]
  },
  {
   "cell_type": "markdown",
   "metadata": {},
   "source": [
    "c) ((A ∨ F) ∨ E ∧ (A ∨ E) ∧ (F ∨ E)) ∧ (A ∧ E ∨ F ∧ (E ∨ A)) = (A ∨ E) ∧ (A ∨ F) ∧ (E ∨ F)"
   ]
  },
  {
   "cell_type": "code",
   "execution_count": 13,
   "metadata": {},
   "outputs": [
    {
     "name": "stdout",
     "output_type": "stream",
     "text": [
      "[1, 2, 6, 7, 10, 11, 16, 19, 22, 23, 25, 26, 28, 29, 30, 32, 33, 36, 39, 41, 43, 45, 47, 48, 49, 50]\n",
      "[1, 2, 6, 7, 10, 11, 16, 19, 22, 23, 25, 26, 28, 29, 30, 32, 33, 36, 39, 41, 43, 45, 47, 48, 49, 50]\n"
     ]
    }
   ],
   "source": [
    "left = ((((A.union(F)).union(E)).intersection(A.union(E))).intersection(F.union(E))).intersection(((A.intersection(E)).union(F)).intersection(E.union(A)))\n",
    "right = ((A.union(E)).intersection(A.union(F))).intersection(E.union(F))\n",
    "print(sort_set(left))\n",
    "print(sort_set(right))"
   ]
  },
  {
   "cell_type": "markdown",
   "metadata": {},
   "source": [
    "left == right"
   ]
  },
  {
   "cell_type": "markdown",
   "metadata": {},
   "source": [
    "### Example 2 : LTL filters"
   ]
  },
  {
   "cell_type": "code",
   "execution_count": 14,
   "metadata": {},
   "outputs": [],
   "source": [
    "import pandas as pd\n",
    "import pm4py\n",
    "import pm4py.algo.filtering.pandas.ltl as ltl\n",
    "import os\n",
    "\n",
    "# get data from csv file\n",
    "df = pd.read_csv(os.path.join(\"logs\", \"detail_incident_activity.csv\"))\n",
    "# dataframe formatting\n",
    "df = pm4py.format_dataframe(df, case_id=\"Incident ID\", activity_key=\"IncidentActivity_Type\", timestamp_key=\"DateStamp\")\n",
    "\n",
    "# KeyError: \"['org:resource'] not in index\"\n",
    "# org:resource = who performed a given activity\n",
    "df.rename(columns={'Assignment Group':'org:resource'}, inplace=True) \n",
    "\n",
    "\n",
    "# drop unnecessary columns\n",
    "df.drop(['Incident ID', 'DateStamp', 'IncidentActivity_Number','IncidentActivity_Type', 'KM number','Interaction ID','@@index'], inplace=True, axis=1)\n",
    "# convert dataframe to logs format\n",
    "logs = pm4py.convert_to_event_log(df)\n",
    "\n",
    "F = ltl.ltl_checker.four_eyes_principle(df, \"Open\", \"Closed\")\n",
    "E = ltl.ltl_checker.A_eventually_B(df, \"Open\", \"Update\")\n",
    "A = ltl.ltl_checker.attr_value_different_persons(df, \"Update\")\n",
    "\n",
    "F= F.drop_duplicates(list(F.columns))\n",
    "E = E.drop_duplicates(list(E.columns))\n",
    "A = A.drop_duplicates(list(A.columns))"
   ]
  },
  {
   "cell_type": "code",
   "execution_count": 15,
   "metadata": {},
   "outputs": [],
   "source": [
    "def df_intersection(A, B):\n",
    "    return pd.merge(A, B, how ='inner', on =list(A.columns)).reset_index().drop(columns=[\"index\"])\n",
    "\n",
    "def df_union(A,B):\n",
    "    return pd.concat([A,B]).drop_duplicates(list(A.columns)).reset_index().drop(columns=[\"index\"])"
   ]
  },
  {
   "cell_type": "markdown",
   "metadata": {},
   "source": [
    "a) (E ∧ A ∧ F ) ∨ ( A ∧ F ) = A ∧ F"
   ]
  },
  {
   "cell_type": "code",
   "execution_count": 16,
   "metadata": {},
   "outputs": [
    {
     "data": {
      "text/html": [
       "<div>\n",
       "<style scoped>\n",
       "    .dataframe tbody tr th:only-of-type {\n",
       "        vertical-align: middle;\n",
       "    }\n",
       "\n",
       "    .dataframe tbody tr th {\n",
       "        vertical-align: top;\n",
       "    }\n",
       "\n",
       "    .dataframe thead th {\n",
       "        text-align: right;\n",
       "    }\n",
       "</style>\n",
       "<table border=\"1\" class=\"dataframe\">\n",
       "  <thead>\n",
       "    <tr style=\"text-align: right;\">\n",
       "      <th></th>\n",
       "      <th>org:resource</th>\n",
       "      <th>case:concept:name</th>\n",
       "      <th>concept:name</th>\n",
       "      <th>time:timestamp</th>\n",
       "    </tr>\n",
       "  </thead>\n",
       "  <tbody>\n",
       "    <tr>\n",
       "      <th>0</th>\n",
       "      <td>TEAM9999</td>\n",
       "      <td>IM0000038</td>\n",
       "      <td>Open</td>\n",
       "      <td>2013-01-15 14:36:33+00:00</td>\n",
       "    </tr>\n",
       "    <tr>\n",
       "      <th>1</th>\n",
       "      <td>TEAM0003</td>\n",
       "      <td>IM0000038</td>\n",
       "      <td>Operator Update</td>\n",
       "      <td>2013-01-15 15:06:12+00:00</td>\n",
       "    </tr>\n",
       "    <tr>\n",
       "      <th>2</th>\n",
       "      <td>TEAM0003</td>\n",
       "      <td>IM0000038</td>\n",
       "      <td>Assignment</td>\n",
       "      <td>2013-01-15 15:06:12+00:00</td>\n",
       "    </tr>\n",
       "    <tr>\n",
       "      <th>3</th>\n",
       "      <td>TEAM0003</td>\n",
       "      <td>IM0000038</td>\n",
       "      <td>Operator Update</td>\n",
       "      <td>2013-01-15 16:03:24+00:00</td>\n",
       "    </tr>\n",
       "    <tr>\n",
       "      <th>4</th>\n",
       "      <td>TEAM0003</td>\n",
       "      <td>IM0000038</td>\n",
       "      <td>Communication with customer</td>\n",
       "      <td>2013-01-15 16:17:52+00:00</td>\n",
       "    </tr>\n",
       "  </tbody>\n",
       "</table>\n",
       "</div>"
      ],
      "text/plain": [
       "  org:resource case:concept:name                 concept:name  \\\n",
       "0     TEAM9999         IM0000038                         Open   \n",
       "1     TEAM0003         IM0000038              Operator Update   \n",
       "2     TEAM0003         IM0000038                   Assignment   \n",
       "3     TEAM0003         IM0000038              Operator Update   \n",
       "4     TEAM0003         IM0000038  Communication with customer   \n",
       "\n",
       "             time:timestamp  \n",
       "0 2013-01-15 14:36:33+00:00  \n",
       "1 2013-01-15 15:06:12+00:00  \n",
       "2 2013-01-15 15:06:12+00:00  \n",
       "3 2013-01-15 16:03:24+00:00  \n",
       "4 2013-01-15 16:17:52+00:00  "
      ]
     },
     "execution_count": 16,
     "metadata": {},
     "output_type": "execute_result"
    }
   ],
   "source": [
    "left = df_union(df_intersection(df_intersection(E,A),F),df_intersection(A,F))\n",
    "left.head(5)"
   ]
  },
  {
   "cell_type": "code",
   "execution_count": 17,
   "metadata": {},
   "outputs": [
    {
     "data": {
      "text/html": [
       "<div>\n",
       "<style scoped>\n",
       "    .dataframe tbody tr th:only-of-type {\n",
       "        vertical-align: middle;\n",
       "    }\n",
       "\n",
       "    .dataframe tbody tr th {\n",
       "        vertical-align: top;\n",
       "    }\n",
       "\n",
       "    .dataframe thead th {\n",
       "        text-align: right;\n",
       "    }\n",
       "</style>\n",
       "<table border=\"1\" class=\"dataframe\">\n",
       "  <thead>\n",
       "    <tr style=\"text-align: right;\">\n",
       "      <th></th>\n",
       "      <th>org:resource</th>\n",
       "      <th>case:concept:name</th>\n",
       "      <th>concept:name</th>\n",
       "      <th>time:timestamp</th>\n",
       "    </tr>\n",
       "  </thead>\n",
       "  <tbody>\n",
       "    <tr>\n",
       "      <th>0</th>\n",
       "      <td>TEAM9999</td>\n",
       "      <td>IM0000038</td>\n",
       "      <td>Open</td>\n",
       "      <td>2013-01-15 14:36:33+00:00</td>\n",
       "    </tr>\n",
       "    <tr>\n",
       "      <th>1</th>\n",
       "      <td>TEAM0003</td>\n",
       "      <td>IM0000038</td>\n",
       "      <td>Operator Update</td>\n",
       "      <td>2013-01-15 15:06:12+00:00</td>\n",
       "    </tr>\n",
       "    <tr>\n",
       "      <th>2</th>\n",
       "      <td>TEAM0003</td>\n",
       "      <td>IM0000038</td>\n",
       "      <td>Assignment</td>\n",
       "      <td>2013-01-15 15:06:12+00:00</td>\n",
       "    </tr>\n",
       "    <tr>\n",
       "      <th>3</th>\n",
       "      <td>TEAM0003</td>\n",
       "      <td>IM0000038</td>\n",
       "      <td>Operator Update</td>\n",
       "      <td>2013-01-15 16:03:24+00:00</td>\n",
       "    </tr>\n",
       "    <tr>\n",
       "      <th>4</th>\n",
       "      <td>TEAM0003</td>\n",
       "      <td>IM0000038</td>\n",
       "      <td>Communication with customer</td>\n",
       "      <td>2013-01-15 16:17:52+00:00</td>\n",
       "    </tr>\n",
       "  </tbody>\n",
       "</table>\n",
       "</div>"
      ],
      "text/plain": [
       "  org:resource case:concept:name                 concept:name  \\\n",
       "0     TEAM9999         IM0000038                         Open   \n",
       "1     TEAM0003         IM0000038              Operator Update   \n",
       "2     TEAM0003         IM0000038                   Assignment   \n",
       "3     TEAM0003         IM0000038              Operator Update   \n",
       "4     TEAM0003         IM0000038  Communication with customer   \n",
       "\n",
       "             time:timestamp  \n",
       "0 2013-01-15 14:36:33+00:00  \n",
       "1 2013-01-15 15:06:12+00:00  \n",
       "2 2013-01-15 15:06:12+00:00  \n",
       "3 2013-01-15 16:03:24+00:00  \n",
       "4 2013-01-15 16:17:52+00:00  "
      ]
     },
     "execution_count": 17,
     "metadata": {},
     "output_type": "execute_result"
    }
   ],
   "source": [
    "right = df_intersection(A,F)\n",
    "right.head(5)"
   ]
  },
  {
   "cell_type": "code",
   "execution_count": 18,
   "metadata": {},
   "outputs": [
    {
     "name": "stdout",
     "output_type": "stream",
     "text": [
      "57236\n",
      "57236\n"
     ]
    }
   ],
   "source": [
    "print(len(left.index))\n",
    "print(len(right.index))"
   ]
  },
  {
   "cell_type": "markdown",
   "metadata": {},
   "source": [
    "left == right"
   ]
  },
  {
   "cell_type": "markdown",
   "metadata": {},
   "source": [
    "b) (A ∧ E) V (F ∧ E V A) ∧ (A V F) =  (A ∨ E) ∧ (A ∨ F)"
   ]
  },
  {
   "cell_type": "code",
   "execution_count": 19,
   "metadata": {},
   "outputs": [
    {
     "data": {
      "text/html": [
       "<div>\n",
       "<style scoped>\n",
       "    .dataframe tbody tr th:only-of-type {\n",
       "        vertical-align: middle;\n",
       "    }\n",
       "\n",
       "    .dataframe tbody tr th {\n",
       "        vertical-align: top;\n",
       "    }\n",
       "\n",
       "    .dataframe thead th {\n",
       "        text-align: right;\n",
       "    }\n",
       "</style>\n",
       "<table border=\"1\" class=\"dataframe\">\n",
       "  <thead>\n",
       "    <tr style=\"text-align: right;\">\n",
       "      <th></th>\n",
       "      <th>org:resource</th>\n",
       "      <th>case:concept:name</th>\n",
       "      <th>concept:name</th>\n",
       "      <th>time:timestamp</th>\n",
       "    </tr>\n",
       "  </thead>\n",
       "  <tbody>\n",
       "    <tr>\n",
       "      <th>0</th>\n",
       "      <td>TEAM9999</td>\n",
       "      <td>IM0000038</td>\n",
       "      <td>Open</td>\n",
       "      <td>2013-01-15 14:36:33+00:00</td>\n",
       "    </tr>\n",
       "    <tr>\n",
       "      <th>1</th>\n",
       "      <td>TEAM0003</td>\n",
       "      <td>IM0000038</td>\n",
       "      <td>Operator Update</td>\n",
       "      <td>2013-01-15 15:06:12+00:00</td>\n",
       "    </tr>\n",
       "    <tr>\n",
       "      <th>2</th>\n",
       "      <td>TEAM0003</td>\n",
       "      <td>IM0000038</td>\n",
       "      <td>Assignment</td>\n",
       "      <td>2013-01-15 15:06:12+00:00</td>\n",
       "    </tr>\n",
       "    <tr>\n",
       "      <th>3</th>\n",
       "      <td>TEAM0003</td>\n",
       "      <td>IM0000038</td>\n",
       "      <td>Operator Update</td>\n",
       "      <td>2013-01-15 16:03:24+00:00</td>\n",
       "    </tr>\n",
       "    <tr>\n",
       "      <th>4</th>\n",
       "      <td>TEAM0003</td>\n",
       "      <td>IM0000038</td>\n",
       "      <td>Communication with customer</td>\n",
       "      <td>2013-01-15 16:17:52+00:00</td>\n",
       "    </tr>\n",
       "  </tbody>\n",
       "</table>\n",
       "</div>"
      ],
      "text/plain": [
       "  org:resource case:concept:name                 concept:name  \\\n",
       "0     TEAM9999         IM0000038                         Open   \n",
       "1     TEAM0003         IM0000038              Operator Update   \n",
       "2     TEAM0003         IM0000038                   Assignment   \n",
       "3     TEAM0003         IM0000038              Operator Update   \n",
       "4     TEAM0003         IM0000038  Communication with customer   \n",
       "\n",
       "             time:timestamp  \n",
       "0 2013-01-15 14:36:33+00:00  \n",
       "1 2013-01-15 15:06:12+00:00  \n",
       "2 2013-01-15 15:06:12+00:00  \n",
       "3 2013-01-15 16:03:24+00:00  \n",
       "4 2013-01-15 16:17:52+00:00  "
      ]
     },
     "execution_count": 19,
     "metadata": {},
     "output_type": "execute_result"
    }
   ],
   "source": [
    "left = df_intersection(df_union(df_intersection(A,E),df_union(df_intersection(F,E),A)),df_union(A,F))\n",
    "left.head(5)"
   ]
  },
  {
   "cell_type": "code",
   "execution_count": 20,
   "metadata": {},
   "outputs": [
    {
     "data": {
      "text/html": [
       "<div>\n",
       "<style scoped>\n",
       "    .dataframe tbody tr th:only-of-type {\n",
       "        vertical-align: middle;\n",
       "    }\n",
       "\n",
       "    .dataframe tbody tr th {\n",
       "        vertical-align: top;\n",
       "    }\n",
       "\n",
       "    .dataframe thead th {\n",
       "        text-align: right;\n",
       "    }\n",
       "</style>\n",
       "<table border=\"1\" class=\"dataframe\">\n",
       "  <thead>\n",
       "    <tr style=\"text-align: right;\">\n",
       "      <th></th>\n",
       "      <th>org:resource</th>\n",
       "      <th>case:concept:name</th>\n",
       "      <th>concept:name</th>\n",
       "      <th>time:timestamp</th>\n",
       "    </tr>\n",
       "  </thead>\n",
       "  <tbody>\n",
       "    <tr>\n",
       "      <th>0</th>\n",
       "      <td>TEAM0003</td>\n",
       "      <td>IM0000015</td>\n",
       "      <td>Update</td>\n",
       "      <td>2013-01-05 13:58:00+00:00</td>\n",
       "    </tr>\n",
       "    <tr>\n",
       "      <th>1</th>\n",
       "      <td>TEAM0003</td>\n",
       "      <td>IM0000015</td>\n",
       "      <td>Update</td>\n",
       "      <td>2013-01-05 14:06:00+00:00</td>\n",
       "    </tr>\n",
       "    <tr>\n",
       "      <th>2</th>\n",
       "      <td>TEAM0002</td>\n",
       "      <td>IM0000015</td>\n",
       "      <td>Update from customer</td>\n",
       "      <td>2013-02-13 12:31:12+00:00</td>\n",
       "    </tr>\n",
       "    <tr>\n",
       "      <th>3</th>\n",
       "      <td>TEAM0002</td>\n",
       "      <td>IM0000015</td>\n",
       "      <td>Update from customer</td>\n",
       "      <td>2013-02-14 11:07:09+00:00</td>\n",
       "    </tr>\n",
       "    <tr>\n",
       "      <th>4</th>\n",
       "      <td>TEAM0002</td>\n",
       "      <td>IM0000015</td>\n",
       "      <td>Assignment</td>\n",
       "      <td>2013-02-14 11:07:09+00:00</td>\n",
       "    </tr>\n",
       "  </tbody>\n",
       "</table>\n",
       "</div>"
      ],
      "text/plain": [
       "  org:resource case:concept:name          concept:name  \\\n",
       "0     TEAM0003         IM0000015                Update   \n",
       "1     TEAM0003         IM0000015                Update   \n",
       "2     TEAM0002         IM0000015  Update from customer   \n",
       "3     TEAM0002         IM0000015  Update from customer   \n",
       "4     TEAM0002         IM0000015            Assignment   \n",
       "\n",
       "             time:timestamp  \n",
       "0 2013-01-05 13:58:00+00:00  \n",
       "1 2013-01-05 14:06:00+00:00  \n",
       "2 2013-02-13 12:31:12+00:00  \n",
       "3 2013-02-14 11:07:09+00:00  \n",
       "4 2013-02-14 11:07:09+00:00  "
      ]
     },
     "execution_count": 20,
     "metadata": {},
     "output_type": "execute_result"
    }
   ],
   "source": [
    "right = df_intersection(df_union(A,E),df_union(A,F))\n",
    "right.head(5)"
   ]
  },
  {
   "cell_type": "code",
   "execution_count": 21,
   "metadata": {},
   "outputs": [
    {
     "name": "stdout",
     "output_type": "stream",
     "text": [
      "191572\n",
      "191572\n"
     ]
    }
   ],
   "source": [
    "print(len(left.index))\n",
    "print(len(right.index))"
   ]
  },
  {
   "cell_type": "markdown",
   "metadata": {},
   "source": [
    "left == right"
   ]
  },
  {
   "cell_type": "markdown",
   "metadata": {},
   "source": [
    "c) ((A ∨ F) ∨ E ∧ (A ∨ E) ∧ (F ∨ E)) ∧ (A ∧ E ∨ F ∧ (E ∨ A)) = (A ∨ E) ∧ (A ∨ F) ∧ (E ∨ F)"
   ]
  },
  {
   "cell_type": "code",
   "execution_count": 22,
   "metadata": {},
   "outputs": [
    {
     "data": {
      "text/html": [
       "<div>\n",
       "<style scoped>\n",
       "    .dataframe tbody tr th:only-of-type {\n",
       "        vertical-align: middle;\n",
       "    }\n",
       "\n",
       "    .dataframe tbody tr th {\n",
       "        vertical-align: top;\n",
       "    }\n",
       "\n",
       "    .dataframe thead th {\n",
       "        text-align: right;\n",
       "    }\n",
       "</style>\n",
       "<table border=\"1\" class=\"dataframe\">\n",
       "  <thead>\n",
       "    <tr style=\"text-align: right;\">\n",
       "      <th></th>\n",
       "      <th>org:resource</th>\n",
       "      <th>case:concept:name</th>\n",
       "      <th>concept:name</th>\n",
       "      <th>time:timestamp</th>\n",
       "    </tr>\n",
       "  </thead>\n",
       "  <tbody>\n",
       "    <tr>\n",
       "      <th>0</th>\n",
       "      <td>TEAM9999</td>\n",
       "      <td>IM0000038</td>\n",
       "      <td>Open</td>\n",
       "      <td>2013-01-15 14:36:33+00:00</td>\n",
       "    </tr>\n",
       "    <tr>\n",
       "      <th>1</th>\n",
       "      <td>TEAM0003</td>\n",
       "      <td>IM0000038</td>\n",
       "      <td>Operator Update</td>\n",
       "      <td>2013-01-15 15:06:12+00:00</td>\n",
       "    </tr>\n",
       "    <tr>\n",
       "      <th>2</th>\n",
       "      <td>TEAM0003</td>\n",
       "      <td>IM0000038</td>\n",
       "      <td>Assignment</td>\n",
       "      <td>2013-01-15 15:06:12+00:00</td>\n",
       "    </tr>\n",
       "    <tr>\n",
       "      <th>3</th>\n",
       "      <td>TEAM0003</td>\n",
       "      <td>IM0000038</td>\n",
       "      <td>Operator Update</td>\n",
       "      <td>2013-01-15 16:03:24+00:00</td>\n",
       "    </tr>\n",
       "    <tr>\n",
       "      <th>4</th>\n",
       "      <td>TEAM0003</td>\n",
       "      <td>IM0000038</td>\n",
       "      <td>Communication with customer</td>\n",
       "      <td>2013-01-15 16:17:52+00:00</td>\n",
       "    </tr>\n",
       "  </tbody>\n",
       "</table>\n",
       "</div>"
      ],
      "text/plain": [
       "  org:resource case:concept:name                 concept:name  \\\n",
       "0     TEAM9999         IM0000038                         Open   \n",
       "1     TEAM0003         IM0000038              Operator Update   \n",
       "2     TEAM0003         IM0000038                   Assignment   \n",
       "3     TEAM0003         IM0000038              Operator Update   \n",
       "4     TEAM0003         IM0000038  Communication with customer   \n",
       "\n",
       "             time:timestamp  \n",
       "0 2013-01-15 14:36:33+00:00  \n",
       "1 2013-01-15 15:06:12+00:00  \n",
       "2 2013-01-15 15:06:12+00:00  \n",
       "3 2013-01-15 16:03:24+00:00  \n",
       "4 2013-01-15 16:17:52+00:00  "
      ]
     },
     "execution_count": 22,
     "metadata": {},
     "output_type": "execute_result"
    }
   ],
   "source": [
    "left = df_intersection(df_intersection(df_intersection(df_union(df_union(A,F),E),df_union(A,E)),df_union(F,E)),df_intersection(df_union(df_intersection(A,E),F),df_union(E,A)))\n",
    "left.head(5)"
   ]
  },
  {
   "cell_type": "code",
   "execution_count": 23,
   "metadata": {},
   "outputs": [
    {
     "data": {
      "text/html": [
       "<div>\n",
       "<style scoped>\n",
       "    .dataframe tbody tr th:only-of-type {\n",
       "        vertical-align: middle;\n",
       "    }\n",
       "\n",
       "    .dataframe tbody tr th {\n",
       "        vertical-align: top;\n",
       "    }\n",
       "\n",
       "    .dataframe thead th {\n",
       "        text-align: right;\n",
       "    }\n",
       "</style>\n",
       "<table border=\"1\" class=\"dataframe\">\n",
       "  <thead>\n",
       "    <tr style=\"text-align: right;\">\n",
       "      <th></th>\n",
       "      <th>org:resource</th>\n",
       "      <th>case:concept:name</th>\n",
       "      <th>concept:name</th>\n",
       "      <th>time:timestamp</th>\n",
       "    </tr>\n",
       "  </thead>\n",
       "  <tbody>\n",
       "    <tr>\n",
       "      <th>0</th>\n",
       "      <td>TEAM9999</td>\n",
       "      <td>IM0000038</td>\n",
       "      <td>Open</td>\n",
       "      <td>2013-01-15 14:36:33+00:00</td>\n",
       "    </tr>\n",
       "    <tr>\n",
       "      <th>1</th>\n",
       "      <td>TEAM0003</td>\n",
       "      <td>IM0000038</td>\n",
       "      <td>Operator Update</td>\n",
       "      <td>2013-01-15 15:06:12+00:00</td>\n",
       "    </tr>\n",
       "    <tr>\n",
       "      <th>2</th>\n",
       "      <td>TEAM0003</td>\n",
       "      <td>IM0000038</td>\n",
       "      <td>Assignment</td>\n",
       "      <td>2013-01-15 15:06:12+00:00</td>\n",
       "    </tr>\n",
       "    <tr>\n",
       "      <th>3</th>\n",
       "      <td>TEAM0003</td>\n",
       "      <td>IM0000038</td>\n",
       "      <td>Operator Update</td>\n",
       "      <td>2013-01-15 16:03:24+00:00</td>\n",
       "    </tr>\n",
       "    <tr>\n",
       "      <th>4</th>\n",
       "      <td>TEAM0003</td>\n",
       "      <td>IM0000038</td>\n",
       "      <td>Communication with customer</td>\n",
       "      <td>2013-01-15 16:17:52+00:00</td>\n",
       "    </tr>\n",
       "  </tbody>\n",
       "</table>\n",
       "</div>"
      ],
      "text/plain": [
       "  org:resource case:concept:name                 concept:name  \\\n",
       "0     TEAM9999         IM0000038                         Open   \n",
       "1     TEAM0003         IM0000038              Operator Update   \n",
       "2     TEAM0003         IM0000038                   Assignment   \n",
       "3     TEAM0003         IM0000038              Operator Update   \n",
       "4     TEAM0003         IM0000038  Communication with customer   \n",
       "\n",
       "             time:timestamp  \n",
       "0 2013-01-15 14:36:33+00:00  \n",
       "1 2013-01-15 15:06:12+00:00  \n",
       "2 2013-01-15 15:06:12+00:00  \n",
       "3 2013-01-15 16:03:24+00:00  \n",
       "4 2013-01-15 16:17:52+00:00  "
      ]
     },
     "execution_count": 23,
     "metadata": {},
     "output_type": "execute_result"
    }
   ],
   "source": [
    "right = df_intersection(df_intersection(df_union(A,E),df_union(A,F)),df_union(E,F))\n",
    "right.head(5)"
   ]
  },
  {
   "cell_type": "code",
   "execution_count": 24,
   "metadata": {},
   "outputs": [
    {
     "name": "stdout",
     "output_type": "stream",
     "text": [
      "190184\n",
      "190184\n"
     ]
    }
   ],
   "source": [
    "print(len(left.index))\n",
    "print(len(right.index))"
   ]
  },
  {
   "cell_type": "markdown",
   "metadata": {},
   "source": [
    "left == right"
   ]
  },
  {
   "cell_type": "markdown",
   "metadata": {},
   "source": [
    "### Important\n",
    "\n",
    "#### The same filters with different parameters must be assigned to different variables!\n",
    "\n",
    "Example:\n",
    "\n",
    "\n",
    "four_eyes_principle(X,Y) != four_eyes_principle(X,Z)\n",
    "\n",
    "A = four_eyes_principle(X,Y)\n",
    "\n",
    "B = four_eyes_principle(X,Z)\n",
    "\n",
    "four_eyes_principle(X,Y) OR four_eyes_principle(X,Z) = A v B"
   ]
  },
  {
   "cell_type": "markdown",
   "metadata": {},
   "source": []
  }
 ],
 "metadata": {
  "kernelspec": {
   "display_name": "Python 3.10.8 ('.venv': venv)",
   "language": "python",
   "name": "python3"
  },
  "language_info": {
   "codemirror_mode": {
    "name": "ipython",
    "version": 3
   },
   "file_extension": ".py",
   "mimetype": "text/x-python",
   "name": "python",
   "nbconvert_exporter": "python",
   "pygments_lexer": "ipython3",
   "version": "3.10.8"
  },
  "orig_nbformat": 4,
  "vscode": {
   "interpreter": {
    "hash": "01bf99f42ebc72e1fff2b4b92ce7d4a779ea1aa607be2dd497b6c6ed77a2b161"
   }
  }
 },
 "nbformat": 4,
 "nbformat_minor": 2
}
